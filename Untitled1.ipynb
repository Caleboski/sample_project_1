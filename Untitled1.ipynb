{
 "cells": [
  {
   "cell_type": "code",
   "execution_count": 2,
   "id": "7322284a-4783-4951-85af-24918ce2a081",
   "metadata": {},
   "outputs": [],
   "source": [
    "import pandas as pd"
   ]
  },
  {
   "cell_type": "code",
   "execution_count": 3,
   "id": "83fb77a9-dc50-446d-b366-6b08138ced15",
   "metadata": {},
   "outputs": [
    {
     "data": {
      "text/plain": [
       "0        Rice\n",
       "1       Beans\n",
       "2         Yam\n",
       "3    Plantain\n",
       "4       Bread\n",
       "5        Fish\n",
       "6     Chicken\n",
       "7         Egg\n",
       "8        Milk\n",
       "9      Banana\n",
       "dtype: object"
      ]
     },
     "execution_count": 3,
     "metadata": {},
     "output_type": "execute_result"
    }
   ],
   "source": [
    "foods = pd.Series([ 'Rice', 'Beans', 'Yam', 'Plantain', 'Bread', 'Fish', 'Chicken', 'Egg', 'Milk', 'Banana'])\n",
    "\n",
    "foods"
   ]
  },
  {
   "cell_type": "code",
   "execution_count": null,
   "id": "39a73c40-50e6-44a0-a814-1d8892577e11",
   "metadata": {},
   "outputs": [],
   "source": []
  }
 ],
 "metadata": {
  "kernelspec": {
   "display_name": "Python 3 (ipykernel)",
   "language": "python",
   "name": "python3"
  },
  "language_info": {
   "codemirror_mode": {
    "name": "ipython",
    "version": 3
   },
   "file_extension": ".py",
   "mimetype": "text/x-python",
   "name": "python",
   "nbconvert_exporter": "python",
   "pygments_lexer": "ipython3",
   "version": "3.13.1"
  }
 },
 "nbformat": 4,
 "nbformat_minor": 5
}
