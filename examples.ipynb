{
 "cells": [
  {
   "cell_type": "code",
   "execution_count": 11,
   "id": "7b1e02d0-5688-4b19-92cc-d745b488a504",
   "metadata": {},
   "outputs": [],
   "source": [
    "import pandas as pd"
   ]
  },
  {
   "cell_type": "code",
   "execution_count": 12,
   "id": "d6bad8ea-1383-49bc-a92a-fbb23ba3b3d4",
   "metadata": {},
   "outputs": [],
   "source": [
    "university_ages = pd.Series([\"12\", \"13\", \"14\", \"15\", \"16\"])"
   ]
  },
  {
   "cell_type": "code",
   "execution_count": 13,
   "id": "8a323321-56ec-4420-81fc-b0a33d144877",
   "metadata": {},
   "outputs": [
    {
     "data": {
      "text/plain": [
       "0    12\n",
       "1    13\n",
       "2    14\n",
       "3    15\n",
       "4    16\n",
       "dtype: object"
      ]
     },
     "execution_count": 13,
     "metadata": {},
     "output_type": "execute_result"
    }
   ],
   "source": [
    "university_ages"
   ]
  },
  {
   "cell_type": "code",
   "execution_count": 14,
   "id": "4ac174f9-d7f5-40d7-808a-e161e2015677",
   "metadata": {},
   "outputs": [],
   "source": [
    "secondary_ages = pd.Series([\"21\", \"22\", \"23\", \"24\", \"25\"])"
   ]
  },
  {
   "cell_type": "code",
   "execution_count": 15,
   "id": "7e65fd3b-de73-4ffc-a991-623fd4756dbc",
   "metadata": {},
   "outputs": [
    {
     "data": {
      "text/plain": [
       "0    21\n",
       "1    22\n",
       "2    23\n",
       "3    24\n",
       "4    25\n",
       "dtype: object"
      ]
     },
     "execution_count": 15,
     "metadata": {},
     "output_type": "execute_result"
    }
   ],
   "source": [
    "secondary_ages"
   ]
  },
  {
   "cell_type": "code",
   "execution_count": 19,
   "id": "8934adf4-ac77-4f15-ad05-8b3b56d50b7c",
   "metadata": {},
   "outputs": [],
   "source": [
    "data_frame = pd.DataFrame({\"University Friends Ages\": university_ages, \"Secondary Friends Ages\": secondary_ages})"
   ]
  },
  {
   "cell_type": "code",
   "execution_count": 20,
   "id": "6386d1b6-9801-40ab-8091-a3a8d7666aed",
   "metadata": {},
   "outputs": [
    {
     "data": {
      "text/html": [
       "<div>\n",
       "<style scoped>\n",
       "    .dataframe tbody tr th:only-of-type {\n",
       "        vertical-align: middle;\n",
       "    }\n",
       "\n",
       "    .dataframe tbody tr th {\n",
       "        vertical-align: top;\n",
       "    }\n",
       "\n",
       "    .dataframe thead th {\n",
       "        text-align: right;\n",
       "    }\n",
       "</style>\n",
       "<table border=\"1\" class=\"dataframe\">\n",
       "  <thead>\n",
       "    <tr style=\"text-align: right;\">\n",
       "      <th></th>\n",
       "      <th>University Friends Ages</th>\n",
       "      <th>Secondary Friends Ages</th>\n",
       "    </tr>\n",
       "  </thead>\n",
       "  <tbody>\n",
       "    <tr>\n",
       "      <th>0</th>\n",
       "      <td>12</td>\n",
       "      <td>21</td>\n",
       "    </tr>\n",
       "    <tr>\n",
       "      <th>1</th>\n",
       "      <td>13</td>\n",
       "      <td>22</td>\n",
       "    </tr>\n",
       "    <tr>\n",
       "      <th>2</th>\n",
       "      <td>14</td>\n",
       "      <td>23</td>\n",
       "    </tr>\n",
       "    <tr>\n",
       "      <th>3</th>\n",
       "      <td>15</td>\n",
       "      <td>24</td>\n",
       "    </tr>\n",
       "    <tr>\n",
       "      <th>4</th>\n",
       "      <td>16</td>\n",
       "      <td>25</td>\n",
       "    </tr>\n",
       "  </tbody>\n",
       "</table>\n",
       "</div>"
      ],
      "text/plain": [
       "  University Friends Ages Secondary Friends Ages\n",
       "0                      12                     21\n",
       "1                      13                     22\n",
       "2                      14                     23\n",
       "3                      15                     24\n",
       "4                      16                     25"
      ]
     },
     "execution_count": 20,
     "metadata": {},
     "output_type": "execute_result"
    }
   ],
   "source": [
    "data_frame"
   ]
  },
  {
   "cell_type": "code",
   "execution_count": 22,
   "id": "3a5a169a-895d-4b90-b7bd-26ae14d08e99",
   "metadata": {},
   "outputs": [],
   "source": [
    "data_frame.to_csv(\"friends-ages.csv\")"
   ]
  },
  {
   "cell_type": "code",
   "execution_count": 23,
   "id": "0e01236d-deea-4434-8a19-a18565a69e57",
   "metadata": {},
   "outputs": [],
   "source": [
    "Friends_Ages = pd.read_csv(\"friends-ages.csv\")"
   ]
  },
  {
   "cell_type": "code",
   "execution_count": 24,
   "id": "27b22cb9-8da3-4667-b238-194405bfe2f9",
   "metadata": {},
   "outputs": [
    {
     "data": {
      "text/html": [
       "<div>\n",
       "<style scoped>\n",
       "    .dataframe tbody tr th:only-of-type {\n",
       "        vertical-align: middle;\n",
       "    }\n",
       "\n",
       "    .dataframe tbody tr th {\n",
       "        vertical-align: top;\n",
       "    }\n",
       "\n",
       "    .dataframe thead th {\n",
       "        text-align: right;\n",
       "    }\n",
       "</style>\n",
       "<table border=\"1\" class=\"dataframe\">\n",
       "  <thead>\n",
       "    <tr style=\"text-align: right;\">\n",
       "      <th></th>\n",
       "      <th>Unnamed: 0</th>\n",
       "      <th>University Friends Ages</th>\n",
       "      <th>Secondary Friends Ages</th>\n",
       "    </tr>\n",
       "  </thead>\n",
       "  <tbody>\n",
       "    <tr>\n",
       "      <th>0</th>\n",
       "      <td>0</td>\n",
       "      <td>12</td>\n",
       "      <td>21</td>\n",
       "    </tr>\n",
       "    <tr>\n",
       "      <th>1</th>\n",
       "      <td>1</td>\n",
       "      <td>13</td>\n",
       "      <td>22</td>\n",
       "    </tr>\n",
       "    <tr>\n",
       "      <th>2</th>\n",
       "      <td>2</td>\n",
       "      <td>14</td>\n",
       "      <td>23</td>\n",
       "    </tr>\n",
       "    <tr>\n",
       "      <th>3</th>\n",
       "      <td>3</td>\n",
       "      <td>15</td>\n",
       "      <td>24</td>\n",
       "    </tr>\n",
       "    <tr>\n",
       "      <th>4</th>\n",
       "      <td>4</td>\n",
       "      <td>16</td>\n",
       "      <td>25</td>\n",
       "    </tr>\n",
       "  </tbody>\n",
       "</table>\n",
       "</div>"
      ],
      "text/plain": [
       "   Unnamed: 0  University Friends Ages  Secondary Friends Ages\n",
       "0           0                       12                      21\n",
       "1           1                       13                      22\n",
       "2           2                       14                      23\n",
       "3           3                       15                      24\n",
       "4           4                       16                      25"
      ]
     },
     "execution_count": 24,
     "metadata": {},
     "output_type": "execute_result"
    }
   ],
   "source": [
    "Friends_Ages"
   ]
  },
  {
   "cell_type": "code",
   "execution_count": 25,
   "id": "23d1ddf0-e704-4c97-ac1f-a1f74a520fcb",
   "metadata": {},
   "outputs": [
    {
     "data": {
      "text/plain": [
       "0    12\n",
       "1    13\n",
       "2    14\n",
       "3    15\n",
       "4    16\n",
       "Name: University Friends Ages, dtype: int64"
      ]
     },
     "execution_count": 25,
     "metadata": {},
     "output_type": "execute_result"
    }
   ],
   "source": [
    "Friends_Ages[\"University Friends Ages\"]"
   ]
  },
  {
   "cell_type": "code",
   "execution_count": 26,
   "id": "336043fa-845c-4dff-8291-0d7ffdf03056",
   "metadata": {},
   "outputs": [
    {
     "data": {
      "text/plain": [
       "np.int64(70)"
      ]
     },
     "execution_count": 26,
     "metadata": {},
     "output_type": "execute_result"
    }
   ],
   "source": [
    "Friends_Ages[\"University Friends Ages\"].sum()"
   ]
  },
  {
   "cell_type": "code",
   "execution_count": 27,
   "id": "884cf442-1247-43f0-92f0-d3ca842ca7a2",
   "metadata": {},
   "outputs": [
    {
     "name": "stdout",
     "output_type": "stream",
     "text": [
      "70\n"
     ]
    }
   ],
   "source": [
    "print(12 + 13 + 14 + 15 + 16)"
   ]
  },
  {
   "cell_type": "code",
   "execution_count": null,
   "id": "ca8820a1-816e-4b64-8fad-80d1c81e0800",
   "metadata": {},
   "outputs": [],
   "source": []
  }
 ],
 "metadata": {
  "kernelspec": {
   "display_name": "Python 3 (ipykernel)",
   "language": "python",
   "name": "python3"
  },
  "language_info": {
   "codemirror_mode": {
    "name": "ipython",
    "version": 3
   },
   "file_extension": ".py",
   "mimetype": "text/x-python",
   "name": "python",
   "nbconvert_exporter": "python",
   "pygments_lexer": "ipython3",
   "version": "3.13.1"
  }
 },
 "nbformat": 4,
 "nbformat_minor": 5
}
