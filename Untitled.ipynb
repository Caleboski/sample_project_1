{
 "cells": [
  {
   "cell_type": "code",
   "execution_count": 4,
   "id": "d384a04f-bfb3-47b3-a0fe-64c40b77b604",
   "metadata": {},
   "outputs": [],
   "source": [
    "import pandas as pd"
   ]
  },
  {
   "cell_type": "code",
   "execution_count": 5,
   "id": "ff06f31c-d99e-44a2-8036-f223b71f98b6",
   "metadata": {},
   "outputs": [],
   "source": [
    "name = pd.Series([\"Nimat\", \"Caleb\", \"Gana\"])"
   ]
  },
  {
   "cell_type": "code",
   "execution_count": 6,
   "id": "515f2547-ad98-40c6-bac4-5233893d5e43",
   "metadata": {},
   "outputs": [
    {
     "data": {
      "text/plain": [
       "0    Nimat\n",
       "1    Caleb\n",
       "2     Gana\n",
       "dtype: object"
      ]
     },
     "execution_count": 6,
     "metadata": {},
     "output_type": "execute_result"
    }
   ],
   "source": [
    "name"
   ]
  },
  {
   "cell_type": "code",
   "execution_count": 7,
   "id": "64e37800-d1bc-4307-af77-c35796c190a4",
   "metadata": {},
   "outputs": [],
   "source": [
    "surname = pd.Series([\"Audu\", \"Kur\", \"Abdullahi\"])"
   ]
  },
  {
   "cell_type": "code",
   "execution_count": 8,
   "id": "f5aea623-b3b4-464a-96ec-e1b5cde46cea",
   "metadata": {},
   "outputs": [
    {
     "data": {
      "text/plain": [
       "0         Audu\n",
       "1          Kur\n",
       "2    Abdullahi\n",
       "dtype: object"
      ]
     },
     "execution_count": 8,
     "metadata": {},
     "output_type": "execute_result"
    }
   ],
   "source": [
    "surname"
   ]
  },
  {
   "cell_type": "code",
   "execution_count": 9,
   "id": "e01b4c38-64e6-47aa-8f81-c6f45fbdab27",
   "metadata": {},
   "outputs": [],
   "source": [
    "full_name = pd.DataFrame({\"Name\": name, \"Surname\": surname})"
   ]
  },
  {
   "cell_type": "code",
   "execution_count": 10,
   "id": "de6a6807-ab43-429e-8659-47c96a7a2400",
   "metadata": {},
   "outputs": [
    {
     "data": {
      "text/html": [
       "<div>\n",
       "<style scoped>\n",
       "    .dataframe tbody tr th:only-of-type {\n",
       "        vertical-align: middle;\n",
       "    }\n",
       "\n",
       "    .dataframe tbody tr th {\n",
       "        vertical-align: top;\n",
       "    }\n",
       "\n",
       "    .dataframe thead th {\n",
       "        text-align: right;\n",
       "    }\n",
       "</style>\n",
       "<table border=\"1\" class=\"dataframe\">\n",
       "  <thead>\n",
       "    <tr style=\"text-align: right;\">\n",
       "      <th></th>\n",
       "      <th>Name</th>\n",
       "      <th>Surname</th>\n",
       "    </tr>\n",
       "  </thead>\n",
       "  <tbody>\n",
       "    <tr>\n",
       "      <th>0</th>\n",
       "      <td>Nimat</td>\n",
       "      <td>Audu</td>\n",
       "    </tr>\n",
       "    <tr>\n",
       "      <th>1</th>\n",
       "      <td>Caleb</td>\n",
       "      <td>Kur</td>\n",
       "    </tr>\n",
       "    <tr>\n",
       "      <th>2</th>\n",
       "      <td>Gana</td>\n",
       "      <td>Abdullahi</td>\n",
       "    </tr>\n",
       "  </tbody>\n",
       "</table>\n",
       "</div>"
      ],
      "text/plain": [
       "    Name    Surname\n",
       "0  Nimat       Audu\n",
       "1  Caleb        Kur\n",
       "2   Gana  Abdullahi"
      ]
     },
     "execution_count": 10,
     "metadata": {},
     "output_type": "execute_result"
    }
   ],
   "source": [
    "full_name"
   ]
  },
  {
   "cell_type": "code",
   "execution_count": 11,
   "id": "9d63f82e-5a94-42a5-8e44-15ee4179d795",
   "metadata": {},
   "outputs": [],
   "source": [
    "import os"
   ]
  },
  {
   "cell_type": "code",
   "execution_count": 12,
   "id": "586b8aea-dc47-4fe9-b1a6-3483fd9be061",
   "metadata": {},
   "outputs": [
    {
     "data": {
      "text/plain": [
       "'C:\\\\Users\\\\DELL\\\\OneDrive\\\\Desktop\\\\sample_project_1\\\\env'"
      ]
     },
     "execution_count": 12,
     "metadata": {},
     "output_type": "execute_result"
    }
   ],
   "source": [
    "os.getcwd()"
   ]
  },
  {
   "cell_type": "code",
   "execution_count": 13,
   "id": "dae0c91d-07b1-4398-aeed-d7090bdb44a5",
   "metadata": {},
   "outputs": [],
   "source": [
    "car_brands = pd.Series([\"Toyota\", \"Honda\", \"Benz\"])"
   ]
  },
  {
   "cell_type": "code",
   "execution_count": 14,
   "id": "5cea2891-6909-41db-9083-0a631552c1d2",
   "metadata": {},
   "outputs": [
    {
     "data": {
      "text/plain": [
       "0    Toyota\n",
       "1     Honda\n",
       "2      Benz\n",
       "dtype: object"
      ]
     },
     "execution_count": 14,
     "metadata": {},
     "output_type": "execute_result"
    }
   ],
   "source": [
    "car_brands"
   ]
  },
  {
   "cell_type": "code",
   "execution_count": null,
   "id": "e698c82a-0e50-4e69-95f2-e60ec0231455",
   "metadata": {},
   "outputs": [],
   "source": []
  }
 ],
 "metadata": {
  "kernelspec": {
   "display_name": "Python (sample_project_1_environment)",
   "language": "python",
   "name": "sample_project_1_env"
  },
  "language_info": {
   "codemirror_mode": {
    "name": "ipython",
    "version": 3
   },
   "file_extension": ".py",
   "mimetype": "text/x-python",
   "name": "python",
   "nbconvert_exporter": "python",
   "pygments_lexer": "ipython3",
   "version": "3.13.1"
  }
 },
 "nbformat": 4,
 "nbformat_minor": 5
}
